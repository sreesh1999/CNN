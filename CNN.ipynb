{
  "nbformat": 4,
  "nbformat_minor": 0,
  "metadata": {
    "colab": {
      "provenance": []
    },
    "kernelspec": {
      "name": "python3",
      "display_name": "Python 3"
    },
    "language_info": {
      "name": "python"
    }
  },
  "cells": [
    {
      "cell_type": "code",
      "execution_count": 23,
      "metadata": {
        "id": "Nddfz8cjnQdI"
      },
      "outputs": [],
      "source": [
        "import numpy as np\n",
        "import matplotlib.pyplot as plt\n",
        "from tensorflow.keras.utils import to_categorical\n",
        "from tensorflow.keras.models import Sequential\n",
        "from tensorflow.keras.layers import Conv2D, MaxPool2D, Flatten, Dense\n",
        "from tensorflow.keras.datasets import mnist"
      ]
    },
    {
      "cell_type": "markdown",
      "source": [
        "**Downloading Mnist Dataset**"
      ],
      "metadata": {
        "id": "sLShr_xkuaYn"
      }
    },
    {
      "cell_type": "code",
      "source": [
        "(x_train, y_train), (x_test, y_test) = mnist.load_data()"
      ],
      "metadata": {
        "colab": {
          "base_uri": "https://localhost:8080/"
        },
        "id": "Jp-vPqzYnuef",
        "outputId": "cbce53a1-2570-4252-bad3-92abfa287e70"
      },
      "execution_count": 7,
      "outputs": [
        {
          "output_type": "stream",
          "name": "stdout",
          "text": [
            "Downloading data from https://storage.googleapis.com/tensorflow/tf-keras-datasets/mnist.npz\n",
            "11490434/11490434 [==============================] - 0s 0us/step\n"
          ]
        }
      ]
    },
    {
      "cell_type": "markdown",
      "source": [
        "**Data Pre-processing**"
      ],
      "metadata": {
        "id": "XqzirPkvuq7d"
      }
    },
    {
      "cell_type": "code",
      "source": [
        "x_train.shape, x_test.shape"
      ],
      "metadata": {
        "colab": {
          "base_uri": "https://localhost:8080/"
        },
        "id": "YXmedwCNn1R_",
        "outputId": "403ce8d8-3b0f-44f9-9c94-7da867b865c4"
      },
      "execution_count": 13,
      "outputs": [
        {
          "output_type": "execute_result",
          "data": {
            "text/plain": [
              "((60000, 28, 28), (10000, 28, 28))"
            ]
          },
          "metadata": {},
          "execution_count": 13
        }
      ]
    },
    {
      "cell_type": "code",
      "source": [
        "X_train = x_train.reshape(60000,28,28,1)"
      ],
      "metadata": {
        "id": "QsyyeSJpoSZG"
      },
      "execution_count": 10,
      "outputs": []
    },
    {
      "cell_type": "code",
      "source": [
        "X_test = x_test.reshape(10000,28,28,1)"
      ],
      "metadata": {
        "id": "H6W-1u7aoiMC"
      },
      "execution_count": 14,
      "outputs": []
    },
    {
      "cell_type": "code",
      "source": [
        "X_train=X_train.astype('float32')/255"
      ],
      "metadata": {
        "id": "WvllsOSDosKH"
      },
      "execution_count": 15,
      "outputs": []
    },
    {
      "cell_type": "code",
      "source": [
        "X_test=X_test.astype('float32')/255"
      ],
      "metadata": {
        "id": "S7lJFDetpE7u"
      },
      "execution_count": 16,
      "outputs": []
    },
    {
      "cell_type": "code",
      "source": [
        "Y_train = to_categorical(y_train,num_classes=10)"
      ],
      "metadata": {
        "id": "7yyjTHTMpIzl"
      },
      "execution_count": 19,
      "outputs": []
    },
    {
      "cell_type": "code",
      "source": [
        "Y_test = to_categorical(y_test,num_classes=10)"
      ],
      "metadata": {
        "id": "x91kynChpddL"
      },
      "execution_count": 20,
      "outputs": []
    },
    {
      "cell_type": "markdown",
      "source": [
        "**Visualizing Dataset**"
      ],
      "metadata": {
        "id": "PihnBGiFu01s"
      }
    },
    {
      "cell_type": "code",
      "source": [
        "fig, axes = plt.subplots(3, 3, figsize=(10, 10))\n",
        "\n",
        "for i, ax in enumerate(axes.flat):\n",
        "  image_index = np.random.randint(x_train.shape[0])\n",
        "\n",
        "  image, label = x_train[image_index], y_train[image_index]\n",
        "  image = image.reshape(28, 28)\n",
        "  ax.imshow(image, cmap='gray')\n",
        "\n",
        "  ax.set_xticks([])\n",
        "  ax.set_yticks([])\n",
        "\n",
        "plt.tight_layout()\n",
        "plt.show()"
      ],
      "metadata": {
        "colab": {
          "base_uri": "https://localhost:8080/",
          "height": 1000
        },
        "id": "IHR96UOLpk8o",
        "outputId": "0e4ca7c2-1774-49c2-cfff-4d83757e8413"
      },
      "execution_count": 24,
      "outputs": [
        {
          "output_type": "display_data",
          "data": {
            "text/plain": [
              "<Figure size 1000x1000 with 9 Axes>"
            ],
            "image/png": "[encoded data removed]"
          },
          "metadata": {}
        }
      ]
    },
    {
      "cell_type": "markdown",
      "source": [
        "**Creating CNN model**"
      ],
      "metadata": {
        "id": "0x5k4AhUu7cQ"
      }
    },
    {
      "cell_type": "code",
      "source": [
        "model = Sequential()\n",
        "model.add(Conv2D(32,(3,3),activation = \"relu\", input_shape = (28,28,1)))\n",
        "model.add(MaxPool2D((2,2)))\n",
        "model.add(Conv2D(64,(3,3),activation = \"relu\"))\n",
        "model.add(MaxPool2D((2,2)))\n",
        "model.add(Flatten())\n",
        "model.add(Dense(64, activation=\"relu\"))\n",
        "model.add(Dense(10, activation=\"softmax\"))"
      ],
      "metadata": {
        "id": "HnzkjtyUqG6j"
      },
      "execution_count": 26,
      "outputs": []
    },
    {
      "cell_type": "code",
      "source": [
        "model.compile(optimizer=\"adam\", loss = \"categorical_crossentropy\", metrics=[\"accuracy\"])"
      ],
      "metadata": {
        "id": "8KRawzgAq_S4"
      },
      "execution_count": 27,
      "outputs": []
    },
    {
      "cell_type": "code",
      "source": [
        "model.summary()"
      ],
      "metadata": {
        "colab": {
          "base_uri": "https://localhost:8080/"
        },
        "id": "lf-AFzVir7_i",
        "outputId": "1f31bf6c-fbfa-490c-8540-59f56cc53973"
      },
      "execution_count": 28,
      "outputs": [
        {
          "output_type": "stream",
          "name": "stdout",
          "text": [
            "Model: \"sequential_1\"\n",
            "_________________________________________________________________\n",
            " Layer (type)                Output Shape              Param #   \n",
            "=================================================================\n",
            " conv2d_2 (Conv2D)           (None, 26, 26, 32)        320       \n",
            "                                                                 \n",
            " max_pooling2d_2 (MaxPoolin  (None, 13, 13, 32)        0         \n",
            " g2D)                                                            \n",
            "                                                                 \n",
            " conv2d_3 (Conv2D)           (None, 11, 11, 64)        18496     \n",
            "                                                                 \n",
            " max_pooling2d_3 (MaxPoolin  (None, 5, 5, 64)          0         \n",
            " g2D)                                                            \n",
            "                                                                 \n",
            " flatten (Flatten)           (None, 1600)              0         \n",
            "                                                                 \n",
            " dense (Dense)               (None, 64)                102464    \n",
            "                                                                 \n",
            " dense_1 (Dense)             (None, 10)                650       \n",
            "                                                                 \n",
            "=================================================================\n",
            "Total params: 121930 (476.29 KB)\n",
            "Trainable params: 121930 (476.29 KB)\n",
            "Non-trainable params: 0 (0.00 Byte)\n",
            "_________________________________________________________________\n"
          ]
        }
      ]
    },
    {
      "cell_type": "markdown",
      "source": [
        "**Training Model**"
      ],
      "metadata": {
        "id": "EHegwdysvBhH"
      }
    },
    {
      "cell_type": "code",
      "source": [
        "model.fit(X_train,Y_train, epochs=5,batch_size=32, validation_data=(X_test,Y_test))"
      ],
      "metadata": {
        "colab": {
          "base_uri": "https://localhost:8080/"
        },
        "id": "YtN2PdB-r_Ny",
        "outputId": "fef1cdc1-dd5a-4122-e0e2-d3c636f88036"
      },
      "execution_count": 29,
      "outputs": [
        {
          "output_type": "stream",
          "name": "stdout",
          "text": [
            "Epoch 1/5\n",
            "1875/1875 [==============================] - 57s 30ms/step - loss: 0.1441 - accuracy: 0.9554 - val_loss: 0.0521 - val_accuracy: 0.9820\n",
            "Epoch 2/5\n",
            "1875/1875 [==============================] - 55s 29ms/step - loss: 0.0482 - accuracy: 0.9852 - val_loss: 0.0362 - val_accuracy: 0.9878\n",
            "Epoch 3/5\n",
            "1875/1875 [==============================] - 53s 28ms/step - loss: 0.0326 - accuracy: 0.9897 - val_loss: 0.0287 - val_accuracy: 0.9900\n",
            "Epoch 4/5\n",
            "1875/1875 [==============================] - 52s 28ms/step - loss: 0.0243 - accuracy: 0.9921 - val_loss: 0.0321 - val_accuracy: 0.9892\n",
            "Epoch 5/5\n",
            "1875/1875 [==============================] - 52s 28ms/step - loss: 0.0189 - accuracy: 0.9939 - val_loss: 0.0271 - val_accuracy: 0.9907\n"
          ]
        },
        {
          "output_type": "execute_result",
          "data": {
            "text/plain": [
              "<keras.src.callbacks.History at 0x7d435e0d62f0>"
            ]
          },
          "metadata": {},
          "execution_count": 29
        }
      ]
    },
    {
      "cell_type": "markdown",
      "source": [
        "**Evaluation**"
      ],
      "metadata": {
        "id": "CuButUp_vGcT"
      }
    },
    {
      "cell_type": "code",
      "source": [
        "test_loss, test_accuracy = model.evaluate(X_test,Y_test)"
      ],
      "metadata": {
        "colab": {
          "base_uri": "https://localhost:8080/"
        },
        "id": "CkXV_GKasb0B",
        "outputId": "5d79683a-6a4a-4898-c665-419bb5292c80"
      },
      "execution_count": 30,
      "outputs": [
        {
          "output_type": "stream",
          "name": "stdout",
          "text": [
            "313/313 [==============================] - 3s 8ms/step - loss: 0.0271 - accuracy: 0.9907\n"
          ]
        }
      ]
    },
    {
      "cell_type": "code",
      "source": [
        "train_loss, train_accuracy = model.evaluate(X_train,Y_train)"
      ],
      "metadata": {
        "colab": {
          "base_uri": "https://localhost:8080/"
        },
        "id": "CxXfP2git2_7",
        "outputId": "325cf2e2-f5ce-4fe8-9e2e-730075f0fc0f"
      },
      "execution_count": 31,
      "outputs": [
        {
          "output_type": "stream",
          "name": "stdout",
          "text": [
            "1875/1875 [==============================] - 17s 9ms/step - loss: 0.0071 - accuracy: 0.9982\n"
          ]
        }
      ]
    },
    {
      "cell_type": "code",
      "source": [
        "print(f'tarin_accuracy:{train_accuracy}  test_accuracy:{test_accuracy}')"
      ],
      "metadata": {
        "colab": {
          "base_uri": "https://localhost:8080/"
        },
        "id": "k7bQukmlt9Dv",
        "outputId": "a9a03f36-270c-4568-b2ae-0988fde3b70d"
      },
      "execution_count": 32,
      "outputs": [
        {
          "output_type": "stream",
          "name": "stdout",
          "text": [
            "tarin_accuracy:0.9982333183288574  test_accuracy:0.9907000064849854\n"
          ]
        }
      ]
    }
  ]
}